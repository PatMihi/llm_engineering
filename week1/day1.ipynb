{
 "cells": [
  {
   "cell_type": "markdown",
   "id": "d15d8294-3328-4e07-ad16-8a03e9bbfdb9",
   "metadata": {},
   "source": [
    "# YOUR FIRST LAB\n",
    "### Please read this section. This is valuable to get you prepared, even if it's a long read -- it's important stuff.\n",
    "\n",
    "## Your first Frontier LLM Project\n",
    "\n",
    "Let's build a useful LLM solution - in a matter of minutes.\n",
    "\n",
    "By the end of this course, you will have built an autonomous Agentic AI solution with 7 agents that collaborate to solve a business problem. All in good time! We will start with something smaller...\n",
    "\n",
    "Our goal is to code a new kind of Web Browser. Give it a URL, and it will respond with a summary. The Reader's Digest of the internet!!\n",
    "\n",
    "Before starting, you should have completed the setup for [PC](../SETUP-PC.md) or [Mac](../SETUP-mac.md) and you hopefully launched this jupyter lab from within the project root directory, with your environment activated.\n",
    "\n",
    "## If you're new to Jupyter Lab\n",
    "\n",
    "Welcome to the wonderful world of Data Science experimentation! Once you've used Jupyter Lab, you'll wonder how you ever lived without it. Simply click in each \"cell\" with code in it, such as the cell immediately below this text, and hit Shift+Return to execute that cell. As you wish, you can add a cell with the + button in the toolbar, and print values of variables, or try out variations.  \n",
    "\n",
    "I've written a notebook called [Guide to Jupyter](Guide%20to%20Jupyter.ipynb) to help you get more familiar with Jupyter Labs, including adding Markdown comments, using `!` to run shell commands, and `tqdm` to show progress.\n",
    "\n",
    "## If you're new to the Command Line\n",
    "\n",
    "Please see these excellent guides: [Command line on PC](https://chatgpt.com/share/67b0acea-ba38-8012-9c34-7a2541052665) and [Command line on Mac](https://chatgpt.com/canvas/shared/67b0b10c93a081918210723867525d2b).  \n",
    "\n",
    "## If you'd prefer to work in IDEs\n",
    "\n",
    "If you're more comfortable in IDEs like VSCode or Pycharm, they both work great with these lab notebooks too.  \n",
    "If you'd prefer to work in VSCode, [here](https://chatgpt.com/share/676f2e19-c228-8012-9911-6ca42f8ed766) are instructions from an AI friend on how to configure it for the course.\n",
    "\n",
    "## If you'd like to brush up your Python\n",
    "\n",
    "I've added a notebook called [Intermediate Python](Intermediate%20Python.ipynb) to get you up to speed. But you should give it a miss if you already have a good idea what this code does:    \n",
    "`yield from {book.get(\"author\") for book in books if book.get(\"author\")}`\n",
    "\n",
    "## I am here to help\n",
    "\n",
    "If you have any problems at all, please do reach out.  \n",
    "I'm available through the platform, or at ed@edwarddonner.com, or at https://www.linkedin.com/in/eddonner/ if you'd like to connect (and I love connecting!)  \n",
    "And this is new to me, but I'm also trying out X/Twitter at [@edwarddonner](https://x.com/edwarddonner) - if you're on X, please show me how it's done 😂  \n",
    "\n",
    "## More troubleshooting\n",
    "\n",
    "Please see the [troubleshooting](troubleshooting.ipynb) notebook in this folder to diagnose and fix common problems. At the very end of it is a diagnostics script with some useful debug info.\n",
    "\n",
    "## If this is old hat!\n",
    "\n",
    "If you're already comfortable with today's material, please hang in there; you can move swiftly through the first few labs - we will get much more in depth as the weeks progress.\n",
    "\n",
    "<table style=\"margin: 0; text-align: left;\">\n",
    "    <tr>\n",
    "        <td style=\"width: 150px; height: 150px; vertical-align: middle;\">\n",
    "            <img src=\"../important.jpg\" width=\"150\" height=\"150\" style=\"display: block;\" />\n",
    "        </td>\n",
    "        <td>\n",
    "            <h2 style=\"color:#900;\">Please read - important note</h2>\n",
    "            <span style=\"color:#900;\">The way I collaborate with you may be different to other courses you've taken. I prefer not to type code while you watch. Rather, I execute Jupyter Labs, like this, and give you an intuition for what's going on. My suggestion is that you carefully execute this yourself, <b>after</b> watching the lecture. Add print statements to understand what's going on, and then come up with your own variations. If you have a Github account, use this to showcase your variations. Not only is this essential practice, but it demonstrates your skills to others, including perhaps future clients or employers...</span>\n",
    "        </td>\n",
    "    </tr>\n",
    "</table>\n",
    "<table style=\"margin: 0; text-align: left;\">\n",
    "    <tr>\n",
    "        <td style=\"width: 150px; height: 150px; vertical-align: middle;\">\n",
    "            <img src=\"../resources.jpg\" width=\"150\" height=\"150\" style=\"display: block;\" />\n",
    "        </td>\n",
    "        <td>\n",
    "            <h2 style=\"color:#f71;\">Treat these labs as a resource</h2>\n",
    "            <span style=\"color:#f71;\">I push updates to the code regularly. When people ask questions or have problems, I incorporate it in the code, adding more examples or improved commentary. As a result, you'll notice that the code below isn't identical to the videos. Everything from the videos is here; but in addition, I've added more steps and better explanations, and occasionally added new models like DeepSeek. Consider this like an interactive book that accompanies the lectures.\n",
    "            </span>\n",
    "        </td>\n",
    "    </tr>\n",
    "</table>\n",
    "<table style=\"margin: 0; text-align: left;\">\n",
    "    <tr>\n",
    "        <td style=\"width: 150px; height: 150px; vertical-align: middle;\">\n",
    "            <img src=\"../business.jpg\" width=\"150\" height=\"150\" style=\"display: block;\" />\n",
    "        </td>\n",
    "        <td>\n",
    "            <h2 style=\"color:#181;\">Business value of these exercises</h2>\n",
    "            <span style=\"color:#181;\">A final thought. While I've designed these notebooks to be educational, I've also tried to make them enjoyable. We'll do fun things like have LLMs tell jokes and argue with each other. But fundamentally, my goal is to teach skills you can apply in business. I'll explain business implications as we go, and it's worth keeping this in mind: as you build experience with models and techniques, think of ways you could put this into action at work today. Please do contact me if you'd like to discuss more or if you have ideas to bounce off me.</span>\n",
    "        </td>\n",
    "    </tr>\n",
    "</table>"
   ]
  },
  {
   "cell_type": "code",
   "execution_count": 1,
   "id": "4e2a9393-7767-488e-a8bf-27c12dca35bd",
   "metadata": {},
   "outputs": [],
   "source": [
    "# imports\n",
    "\n",
    "import os\n",
    "import requests\n",
    "from dotenv import load_dotenv\n",
    "from bs4 import BeautifulSoup\n",
    "from IPython.display import Markdown, display\n",
    "from openai import OpenAI\n",
    "\n",
    "# If you get an error running this cell, then please head over to the troubleshooting notebook!"
   ]
  },
  {
   "cell_type": "markdown",
   "id": "6900b2a8-6384-4316-8aaa-5e519fca4254",
   "metadata": {},
   "source": [
    "# Connecting to OpenAI (or Ollama)\n",
    "\n",
    "The next cell is where we load in the environment variables in your `.env` file and connect to OpenAI.  \n",
    "\n",
    "If you'd like to use free Ollama instead, please see the README section \"Free Alternative to Paid APIs\", and if you're not sure how to do this, there's a full solution in the solutions folder (day1_with_ollama.ipynb).\n",
    "\n",
    "## Troubleshooting if you have problems:\n",
    "\n",
    "Head over to the [troubleshooting](troubleshooting.ipynb) notebook in this folder for step by step code to identify the root cause and fix it!\n",
    "\n",
    "If you make a change, try restarting the \"Kernel\" (the python process sitting behind this notebook) by Kernel menu >> Restart Kernel and Clear Outputs of All Cells. Then try this notebook again, starting at the top.\n",
    "\n",
    "Or, contact me! Message me or email ed@edwarddonner.com and we will get this to work.\n",
    "\n",
    "Any concerns about API costs? See my notes in the README - costs should be minimal, and you can control it at every point. You can also use Ollama as a free alternative, which we discuss during Day 2."
   ]
  },
  {
   "cell_type": "code",
   "execution_count": 2,
   "id": "7b87cadb-d513-4303-baee-a37b6f938e4d",
   "metadata": {},
   "outputs": [
    {
     "name": "stdout",
     "output_type": "stream",
     "text": [
      "API key found and looks good so far!\n"
     ]
    }
   ],
   "source": [
    "# Load environment variables in a file called .env\n",
    "\n",
    "load_dotenv(override=True)\n",
    "api_key = os.getenv('OPENAI_API_KEY')\n",
    "\n",
    "# Check the key\n",
    "\n",
    "if not api_key:\n",
    "    print(\"No API key was found - please head over to the troubleshooting notebook in this folder to identify & fix!\")\n",
    "elif not api_key.startswith(\"sk-proj-\"):\n",
    "    print(\"An API key was found, but it doesn't start sk-proj-; please check you're using the right key - see troubleshooting notebook\")\n",
    "elif api_key.strip() != api_key:\n",
    "    print(\"An API key was found, but it looks like it might have space or tab characters at the start or end - please remove them - see troubleshooting notebook\")\n",
    "else:\n",
    "    print(\"API key found and looks good so far!\")\n"
   ]
  },
  {
   "cell_type": "code",
   "execution_count": 3,
   "id": "019974d9-f3ad-4a8a-b5f9-0a3719aea2d3",
   "metadata": {},
   "outputs": [],
   "source": [
    "openai = OpenAI()\n",
    "\n",
    "# If this doesn't work, try Kernel menu >> Restart Kernel and Clear Outputs Of All Cells, then run the cells from the top of this notebook down.\n",
    "# If it STILL doesn't work (horrors!) then please see the Troubleshooting notebook in this folder for full instructions"
   ]
  },
  {
   "cell_type": "markdown",
   "id": "442fc84b-0815-4f40-99ab-d9a5da6bda91",
   "metadata": {},
   "source": [
    "# Let's make a quick call to a Frontier model to get started, as a preview!"
   ]
  },
  {
   "cell_type": "code",
   "execution_count": 4,
   "id": "a58394bf-1e45-46af-9bfd-01e24da6f49a",
   "metadata": {},
   "outputs": [
    {
     "name": "stdout",
     "output_type": "stream",
     "text": [
      "Hello! Welcome! I'm glad you're here. How can I assist you today?\n"
     ]
    }
   ],
   "source": [
    "# To give you a preview -- calling OpenAI with these messages is this easy. Any problems, head over to the Troubleshooting notebook.\n",
    "\n",
    "message = \"Hello, GPT! This is my first ever message to you! Hi!\"\n",
    "response = openai.chat.completions.create(model=\"gpt-4o-mini\", messages=[{\"role\":\"user\", \"content\":message}])\n",
    "print(response.choices[0].message.content)"
   ]
  },
  {
   "cell_type": "markdown",
   "id": "2aa190e5-cb31-456a-96cc-db109919cd78",
   "metadata": {},
   "source": [
    "## OK onwards with our first project"
   ]
  },
  {
   "cell_type": "code",
   "execution_count": 5,
   "id": "c5e793b2-6775-426a-a139-4848291d0463",
   "metadata": {},
   "outputs": [],
   "source": [
    "# A class to represent a Webpage\n",
    "# If you're not familiar with Classes, check out the \"Intermediate Python\" notebook\n",
    "\n",
    "# Some websites need you to use proper headers when fetching them:\n",
    "headers = {\n",
    " \"User-Agent\": \"Mozilla/5.0 (Windows NT 10.0; Win64; x64) AppleWebKit/537.36 (KHTML, like Gecko) Chrome/117.0.0.0 Safari/537.36\"\n",
    "}\n",
    "\n",
    "class Website:\n",
    "\n",
    "    def __init__(self, url):\n",
    "        \"\"\"\n",
    "        Create this Website object from the given url using the BeautifulSoup library\n",
    "        \"\"\"\n",
    "        self.url = url\n",
    "        response = requests.get(url, headers=headers)\n",
    "        soup = BeautifulSoup(response.content, 'html.parser')\n",
    "        self.title = soup.title.string if soup.title else \"No title found\"\n",
    "        for irrelevant in soup.body([\"script\", \"style\", \"img\", \"input\"]):\n",
    "            irrelevant.decompose()\n",
    "        self.text = soup.body.get_text(separator=\"\\n\", strip=True)"
   ]
  },
  {
   "cell_type": "code",
   "execution_count": 6,
   "id": "2ef960cf-6dc2-4cda-afb3-b38be12f4c97",
   "metadata": {},
   "outputs": [
    {
     "name": "stdout",
     "output_type": "stream",
     "text": [
      "Home - Edward Donner\n",
      "Home\n",
      "Connect Four\n",
      "Outsmart\n",
      "An arena that pits LLMs against each other in a battle of diplomacy and deviousness\n",
      "About\n",
      "Posts\n",
      "Well, hi there.\n",
      "I’m Ed. I like writing code and experimenting with LLMs, and hopefully you’re here because you do too. I also enjoy DJing (but I’m badly out of practice), amateur electronic music production (\n",
      "very\n",
      "amateur) and losing myself in\n",
      "Hacker News\n",
      ", nodding my head sagely to things I only half understand.\n",
      "I’m the co-founder and CTO of\n",
      "Nebula.io\n",
      ". We’re applying AI to a field where it can make a massive, positive impact: helping people discover their potential and pursue their reason for being. Recruiters use our product today to source, understand, engage and manage talent. I’m previously the founder and CEO of AI startup untapt,\n",
      "acquired in 2021\n",
      ".\n",
      "We work with groundbreaking, proprietary LLMs verticalized for talent, we’ve\n",
      "patented\n",
      "our matching model, and our award-winning platform has happy customers and tons of press coverage.\n",
      "Connect\n",
      "with me for more!\n",
      "January 23, 2025\n",
      "LLM Workshop – Hands-on with Agents – resources\n",
      "December 21, 2024\n",
      "Welcome, SuperDataScientists!\n",
      "November 13, 2024\n",
      "Mastering AI and LLM Engineering – Resources\n",
      "October 16, 2024\n",
      "From Software Engineer to AI Data Scientist – resources\n",
      "Navigation\n",
      "Home\n",
      "Connect Four\n",
      "Outsmart\n",
      "An arena that pits LLMs against each other in a battle of diplomacy and deviousness\n",
      "About\n",
      "Posts\n",
      "Get in touch\n",
      "ed [at] edwarddonner [dot] com\n",
      "www.edwarddonner.com\n",
      "Follow me\n",
      "LinkedIn\n",
      "Twitter\n",
      "Facebook\n",
      "Subscribe to newsletter\n",
      "Type your email…\n",
      "Subscribe\n"
     ]
    }
   ],
   "source": [
    "# Let's try one out. Change the website and add print statements to follow along.\n",
    "\n",
    "ed = Website(\"https://edwarddonner.com\")\n",
    "print(ed.title)\n",
    "print(ed.text)"
   ]
  },
  {
   "cell_type": "code",
   "execution_count": 7,
   "id": "6404c4fa",
   "metadata": {},
   "outputs": [
    {
     "name": "stdout",
     "output_type": "stream",
     "text": [
      "Škrečok zlatý a trpasličí: Chov a starostlivosť | SVET ŠKREČKOV\n",
      "Toggle Navigation\n",
      "Domov\n",
      "Blog\n",
      "O mne\n",
      "Kontakt\n",
      "Škrečkopédia – kniha o škrečkoch\n",
      "Hľadať:\n",
      "SVET ŠKREČKOV\n",
      "Všetko, čo potrebuješ vedieť o starostlivosti o škrečka – pevné základy, praktické rady a škrečkoviny.\n",
      "Prečítaj si ukážku zo Škrečkopédie\n",
      "Ako škrečok získa tvoje srdce a ty jeho dôveru\n",
      "Škrečok je jedinečné zvieratko. Títo malí zvedaví spoločníci vedia rozveseliť aj ten najsmutnejší deň. Sú nenároční na starostlivosť a lacní, a preto sú častou voľbou prvých maznáčikov pre deti. No svojou zvedavosťou a rozkošnými (občas trošku neohrabanými) pohybmi si získajú aj srdcia dospelých. Zatúlajme sa spolu do tajomných škrečacích chodbičiek, kde škrečky sýrske, džungarské, Campbellove a Roborovského žijú svoje malé veľké dobrodružstvá.\n",
      "Ako sa o ne správne postarať a zabezpečiť im šťastný a spokojný život? Prečítaj si\n",
      "Škrečkopédiu – knihu o starostlivosti o škrečky\n",
      "ešte pred jej vydaním, alebo si pozri užitočné infošky o chove priamo na stránke.\n",
      "Domov pre škrečka\n",
      "Ako vyzerá ideálny\n",
      "domov pre škrečka\n",
      "? Dozvieš sa, aký veľký príbytok potrebuje, aká hlboká má byť podstielka a aké koliesko, piesok a hračky ho potešia.\n",
      "Viac info\n",
      "Menu pre škrečka\n",
      "Aké je najchutnejšie\n",
      "menu pre škrečka\n",
      "? Prevedieme ťa svetom zeleniny, ovocia, bielkovín a škrečacích maškŕt a spomenieme aj čomu sa vyhnúť.\n",
      "Viac info\n",
      "Cesta k priateľstvu\n",
      "Ako získaš škrečkovu dôveru? Máme pre teba overené tipy na krotenie, ktoré spolu krok po kroku hravo zvládnete, a tie najlepšie hry na dlhé hodiny.\n",
      "Viac info čoskoro\n",
      "Zdravie škrečkov\n",
      "Ako spoznáš, že je tvoj škrečok chorý, alebo mu niečo chýba? Aké sú\n",
      "bežné ochorenia škrečkov\n",
      "a čo robiť, aby bol tvoj kamoš zdravý a veselý?\n",
      "Viac info\n",
      "Škrečok Buri a jeho príbeh\n",
      "Ahoj, ja som Buri – dlhosrstý škrečok sýrsky s mäkučkým bielym kožúškom, veľkým srdcom a slabosťou pre čerstvú brokolicu. Milujem nočné dobrodružstvá v koliesku, hrabanie v špeciálnom piesku a stavanie tých najtajnejších škrečacích bunkrov.\n",
      "Som pripravený podeliť sa s tebou o všetky tajomstvá nášho života, ktoré ti pomôžu stať sa skutočným škrečkovským odborníkom. Ukážem ti, ako nám vytvoriť útulný domov, aké dobroty nám chutia najviac, ako sa s nami môžeš poriadne zabaviť a čo robiť, keď nás niečo trápi. Spoločne sa postaráme o to, aby sme mali krásny a šťastný život.\n",
      "S mojimi škrečacími kamošmi veríme, že každý škrečok si zaslúži žiť spokojne, v láske a v bezpečí. Tak otvor dvierka do nášho sveta, nech sa z teba a tvojho škrečka čo najskôr stane nerozlučná dvojka!\n",
      "P.S.: Prečítaj si\n",
      "Škrečkopédiu\n",
      "ešte pred jej vydaním!\n",
      "Blog\n",
      "Prečítaj si užitočné články o starostlivosti o škrečky sýrske, džungarské, Campbellove a Roborovského.\n",
      "Nezaradené\n",
      "Škrečkopédia: Kniha, ktorá mohla zmeniť svet škrečkov\n",
      "Predstavte si svet, kde škrečky už nie sú… Obrázok: Canva Nie preto, že by sme na nich zabudli, ale preto, že sme im nerozumeli. Kde malí chlpatí spoločníci nie sú vnímaní ako bytosti schopné vytvárať\n",
      "Read more…\n",
      "Kniha o škrečkoch\n",
      "Koľko trvá napísať knihu? Môj príbeh od nápadu po rukopis\n",
      "Každého, kto začal s písaním knihy, na začiatku zaujíma jediné: Koľko trvá napísať knihu? No dobre, potom ešte kde hľadať inšpiráciu, koľko písaním zarobí (obvykle nič) a ako veľmi bude po dokončení knihy slávny. Ale\n",
      "Read more…\n",
      "Druh škrečkov\n",
      "Škrečok sýrsky, známy aj ako škrečok zlatý\n",
      "Ahoj, ja som Buri, tvoj múdry škrečí kamoš. Porozprávam ti o nás, škrečkoch sýrskych, alebo ako nás niekedy volajú – škrečkoch zlatých (z angl. Syrian Hamster). Poďme na to, nech vieš všetko, čo treba. Text\n",
      "Read more…\n",
      "Starostlivosť o škrečka\n",
      "Ušiel mi škrečok, pomóc!\n",
      "Ojoj, stalo sa ti, že tvoj škrečok zdrhol? Žiadny stres, občas sa to prihodí aj tým najpozornejším. Sme celkom machri v únikoch. A aj keď máš oči všade, nájdeme cestičku von. Ale čo teraz? Kde\n",
      "Read more…\n",
      "Druh škrečkov\n",
      "Škrečok Campbellov: Malý spoločník s veľkým srdcom\n",
      "Premýšľaš nad tým, že by si sa stal škrečko-rodičom? Ak áno, škrečok Campbellov môže byť tým pravým malým kamarátom pre teba. Tieto trpasličie škrečky sú nielen očarujúce, ale aj jedinečné svojou povahou a štýlom života.\n",
      "Read more…\n",
      "Kúpa škrečka\n",
      "Kúpa škrečka: Si pripravený stať sa skvelým škrečko-rodičom?\n",
      "Teraz sa porozprávame o niečom vážnom, a tým je kúpa škrečka. Respektíve to, čo jej predchádza. Zároveň sa môžeš otestovať, či si vhodný adept na to, aby si sa stal škrečacím rodičom. Kupovať škrečka pre\n",
      "Read more…\n",
      "Starostlivosť o škrečka\n",
      "Choroby škrečkov: Ako ich spoznať a pomôcť svojmu miláčikovi?\n",
      "Ak čítaš tento článok, pravdepodobne sa obávaš o zdravie svojho škrečka. Škrečky sú malé, no odvážne stvorenia, ktoré sa často snažia tváriť, že je všetko v poriadku, aj keď ich niečo trápi. Ako teda rozpoznať\n",
      "Read more…\n",
      "Starostlivosť o škrečka\n",
      "Podstielka pre škrečka: Ako vybrať tú správnu a čomu sa vyhnúť?\n",
      "Správna podstielka pre škrečka je kľúčová pre jeho spokojnosť a zdravie. V tomto článku si prečítaš, ktoré podstielky sú vhodné pre tvojho malého hrabúšika, a ktorým sa radšej vyhnúť – áno, aj „tradičným“ pilinám. Prečo\n",
      "Read more…\n",
      "Starostlivosť o škrečka\n",
      "Klietka pre škrečka: Vytvor svojmu škrečkovi dokonalý domov\n",
      "Hľadáš rady, ako svojej chlpatej loptičke energie zariadiť dokonalý domov? Ideálna klietka pre škrečka existuje! V tomto článku nájdeš všetko, čo potrebuješ vedieť – od výberu správneho príbytku a príslušenstva až po tipy, ako vytvoriť\n",
      "Read more…\n",
      "Máš nejaké škrečázky?\n",
      "Zaujíma ťa info o pripravovanej Škrečkopédii, teda príručke o chove škrečkov pre deti? Spýtaj sa Buriho alebo jeho ľudskej mamy.\n",
      "💌 info@svetskreckov.sk\n",
      "💟\n",
      "Instagram\n",
      "💟\n",
      "Facebook\n",
      "Chystá sa nová kniha o škrečkoch – Škrečkopédia\n",
      "Home\n",
      "Kontakt\n",
      "O projekte\n",
      "Škrečací blog\n",
      "Škrečok sýrsky, známy aj ako škrečok zlatý\n",
      "Zásady ochrany osobných údajov\n",
      "Hestia | Developed by\n",
      "ThemeIsle\n",
      "Používame cookies aby sme pre vás zabezpečili ten najlepší zážitok z našich webových stránok. Ak budete pokračovať v používaní tejto stránky budeme predpokladať, že ste s ňou spokojní.\n",
      "Ok\n"
     ]
    }
   ],
   "source": [
    "ed = Website(\"https://www.svetskreckov.sk/\")\n",
    "print(ed.title)\n",
    "print(ed.text)"
   ]
  },
  {
   "cell_type": "markdown",
   "id": "6a478a0c-2c53-48ff-869c-4d08199931e1",
   "metadata": {},
   "source": [
    "## Types of prompts\n",
    "\n",
    "You may know this already - but if not, you will get very familiar with it!\n",
    "\n",
    "Models like GPT4o have been trained to receive instructions in a particular way.\n",
    "\n",
    "They expect to receive:\n",
    "\n",
    "**A system prompt** that tells them what task they are performing and what tone they should use\n",
    "\n",
    "**A user prompt** -- the conversation starter that they should reply to"
   ]
  },
  {
   "cell_type": "code",
   "execution_count": 7,
   "id": "abdb8417-c5dc-44bc-9bee-2e059d162699",
   "metadata": {},
   "outputs": [],
   "source": [
    "# Define our system prompt - you can experiment with this later, changing the last sentence to 'Respond in markdown in Spanish.\"\n",
    "\n",
    "system_prompt = \"You are an assistant that analyzes the contents of a website \\\n",
    "and provides a short summary, ignoring text that might be navigation related. \\\n",
    "Respond in markdown.\""
   ]
  },
  {
   "cell_type": "code",
   "execution_count": 8,
   "id": "f0275b1b-7cfe-4f9d-abfa-7650d378da0c",
   "metadata": {},
   "outputs": [],
   "source": [
    "# A function that writes a User Prompt that asks for summaries of websites:\n",
    "\n",
    "def user_prompt_for(website):\n",
    "    user_prompt = f\"You are looking at a website titled {website.title}\"\n",
    "    user_prompt += \"\\nThe contents of this website is as follows; \\\n",
    "please provide a short summary of this website in markdown. \\\n",
    "If it includes news or announcements, then summarize these too.\\n\\n\"\n",
    "    user_prompt += website.text\n",
    "    return user_prompt"
   ]
  },
  {
   "cell_type": "code",
   "execution_count": 9,
   "id": "26448ec4-5c00-4204-baec-7df91d11ff2e",
   "metadata": {},
   "outputs": [
    {
     "name": "stdout",
     "output_type": "stream",
     "text": [
      "You are looking at a website titled Home - Edward Donner\n",
      "The contents of this website is as follows; please provide a short summary of this website in markdown. If it includes news or announcements, then summarize these too.\n",
      "\n",
      "Home\n",
      "Connect Four\n",
      "Outsmart\n",
      "An arena that pits LLMs against each other in a battle of diplomacy and deviousness\n",
      "About\n",
      "Posts\n",
      "Well, hi there.\n",
      "I’m Ed. I like writing code and experimenting with LLMs, and hopefully you’re here because you do too. I also enjoy DJing (but I’m badly out of practice), amateur electronic music production (\n",
      "very\n",
      "amateur) and losing myself in\n",
      "Hacker News\n",
      ", nodding my head sagely to things I only half understand.\n",
      "I’m the co-founder and CTO of\n",
      "Nebula.io\n",
      ". We’re applying AI to a field where it can make a massive, positive impact: helping people discover their potential and pursue their reason for being. Recruiters use our product today to source, understand, engage and manage talent. I’m previously the founder and CEO of AI startup untapt,\n",
      "acquired in 2021\n",
      ".\n",
      "We work with groundbreaking, proprietary LLMs verticalized for talent, we’ve\n",
      "patented\n",
      "our matching model, and our award-winning platform has happy customers and tons of press coverage.\n",
      "Connect\n",
      "with me for more!\n",
      "January 23, 2025\n",
      "LLM Workshop – Hands-on with Agents – resources\n",
      "December 21, 2024\n",
      "Welcome, SuperDataScientists!\n",
      "November 13, 2024\n",
      "Mastering AI and LLM Engineering – Resources\n",
      "October 16, 2024\n",
      "From Software Engineer to AI Data Scientist – resources\n",
      "Navigation\n",
      "Home\n",
      "Connect Four\n",
      "Outsmart\n",
      "An arena that pits LLMs against each other in a battle of diplomacy and deviousness\n",
      "About\n",
      "Posts\n",
      "Get in touch\n",
      "ed [at] edwarddonner [dot] com\n",
      "www.edwarddonner.com\n",
      "Follow me\n",
      "LinkedIn\n",
      "Twitter\n",
      "Facebook\n",
      "Subscribe to newsletter\n",
      "Type your email…\n",
      "Subscribe\n"
     ]
    }
   ],
   "source": [
    "print(user_prompt_for(ed))"
   ]
  },
  {
   "cell_type": "markdown",
   "id": "ea211b5f-28e1-4a86-8e52-c0b7677cadcc",
   "metadata": {},
   "source": [
    "## Messages\n",
    "\n",
    "The API from OpenAI expects to receive messages in a particular structure.\n",
    "Many of the other APIs share this structure:\n",
    "\n",
    "```\n",
    "[\n",
    "    {\"role\": \"system\", \"content\": \"system message goes here\"},\n",
    "    {\"role\": \"user\", \"content\": \"user message goes here\"}\n",
    "]\n",
    "\n",
    "To give you a preview, the next 2 cells make a rather simple call - we won't stretch the mighty GPT (yet!)"
   ]
  },
  {
   "cell_type": "code",
   "execution_count": 11,
   "id": "f25dcd35-0cd0-4235-9f64-ac37ed9eaaa5",
   "metadata": {},
   "outputs": [],
   "source": [
    "messages = [\n",
    "    {\"role\": \"system\", \"content\": \"You are a snarky assistant\"},\n",
    "    {\"role\": \"user\", \"content\": \"What is 2 + 2?\"}\n",
    "]"
   ]
  },
  {
   "cell_type": "code",
   "execution_count": 12,
   "id": "21ed95c5-7001-47de-a36d-1d6673b403ce",
   "metadata": {},
   "outputs": [
    {
     "name": "stdout",
     "output_type": "stream",
     "text": [
      "Oh, I don’t know, maybe it’s a trick question? But if you're looking for the simple answer, it's 4. Shocking, I know!\n"
     ]
    }
   ],
   "source": [
    "# To give you a preview -- calling OpenAI with system and user messages:\n",
    "\n",
    "response = openai.chat.completions.create(model=\"gpt-4o-mini\", messages=messages)\n",
    "print(response.choices[0].message.content)"
   ]
  },
  {
   "cell_type": "markdown",
   "id": "d06e8d78-ce4c-4b05-aa8e-17050c82bb47",
   "metadata": {},
   "source": [
    "## And now let's build useful messages for GPT-4o-mini, using a function"
   ]
  },
  {
   "cell_type": "code",
   "execution_count": 13,
   "id": "0134dfa4-8299-48b5-b444-f2a8c3403c88",
   "metadata": {},
   "outputs": [],
   "source": [
    "# See how this function creates exactly the format above\n",
    "\n",
    "def messages_for(website):\n",
    "    return [\n",
    "        {\"role\": \"system\", \"content\": system_prompt},\n",
    "        {\"role\": \"user\", \"content\": user_prompt_for(website)}\n",
    "    ]"
   ]
  },
  {
   "cell_type": "code",
   "execution_count": 15,
   "id": "36478464-39ee-485c-9f3f-6a4e458dbc9c",
   "metadata": {},
   "outputs": [
    {
     "data": {
      "text/plain": [
       "[{'role': 'system',\n",
       "  'content': 'You are an assistant that analyzes the contents of a website and provides a short summary, ignoring text that might be navigation related. Respond in markdown.'},\n",
       " {'role': 'user',\n",
       "  'content': 'You are looking at a website titled Home - Edward Donner\\nThe contents of this website is as follows; please provide a short summary of this website in markdown. If it includes news or announcements, then summarize these too.\\n\\nHome\\nConnect Four\\nOutsmart\\nAn arena that pits LLMs against each other in a battle of diplomacy and deviousness\\nAbout\\nPosts\\nWell, hi there.\\nI’m Ed. I like writing code and experimenting with LLMs, and hopefully you’re here because you do too. I also enjoy DJing (but I’m badly out of practice), amateur electronic music production (\\nvery\\namateur) and losing myself in\\nHacker News\\n, nodding my head sagely to things I only half understand.\\nI’m the co-founder and CTO of\\nNebula.io\\n. We’re applying AI to a field where it can make a massive, positive impact: helping people discover their potential and pursue their reason for being. Recruiters use our product today to source, understand, engage and manage talent. I’m previously the founder and CEO of AI startup untapt,\\nacquired in 2021\\n.\\nWe work with groundbreaking, proprietary LLMs verticalized for talent, we’ve\\npatented\\nour matching model, and our award-winning platform has happy customers and tons of press coverage.\\nConnect\\nwith me for more!\\nJanuary 23, 2025\\nLLM Workshop – Hands-on with Agents – resources\\nDecember 21, 2024\\nWelcome, SuperDataScientists!\\nNovember 13, 2024\\nMastering AI and LLM Engineering – Resources\\nOctober 16, 2024\\nFrom Software Engineer to AI Data Scientist – resources\\nNavigation\\nHome\\nConnect Four\\nOutsmart\\nAn arena that pits LLMs against each other in a battle of diplomacy and deviousness\\nAbout\\nPosts\\nGet in touch\\ned [at] edwarddonner [dot] com\\nwww.edwarddonner.com\\nFollow me\\nLinkedIn\\nTwitter\\nFacebook\\nSubscribe to newsletter\\nType your email…\\nSubscribe'}]"
      ]
     },
     "execution_count": 15,
     "metadata": {},
     "output_type": "execute_result"
    }
   ],
   "source": [
    "# Try this out, and then try for a few more websites\n",
    "\n",
    "messages_for(ed)"
   ]
  },
  {
   "cell_type": "markdown",
   "id": "16f49d46-bf55-4c3e-928f-68fc0bf715b0",
   "metadata": {},
   "source": [
    "## Time to bring it together - the API for OpenAI is very simple!"
   ]
  },
  {
   "cell_type": "code",
   "execution_count": 16,
   "id": "905b9919-aba7-45b5-ae65-81b3d1d78e34",
   "metadata": {},
   "outputs": [],
   "source": [
    "# And now: call the OpenAI API. You will get very familiar with this!\n",
    "\n",
    "def summarize(url):\n",
    "    website = Website(url)\n",
    "    response = openai.chat.completions.create(\n",
    "        model = \"gpt-4o-mini\",\n",
    "        messages = messages_for(website)\n",
    "    )\n",
    "    return response.choices[0].message.content"
   ]
  },
  {
   "cell_type": "code",
   "execution_count": 20,
   "id": "5a91963d",
   "metadata": {},
   "outputs": [
    {
     "data": {
      "text/plain": [
       "'# Summary of \"Škrečok zlatý a trpasličí: Chov a starostlivosť | SVET ŠKREČKOV\"\\n\\nThe website provides a comprehensive guide to caring for hamsters, focusing specifically on Syrian (golden) and dwarf hamsters. It emphasizes the unique qualities of these pets, their low maintenance requirements, and their ability to bring joy to families, including children and adults. \\n\\n## Key Sections:\\n\\n- **Care Guide**: Offers practical advice on creating an ideal living space for hamsters, including housing size, bedding, toys, and diet recommendations. It discusses appropriate foods and treats, highlighting what to avoid in their diet.\\n  \\n- **Building Trust**: Provides effective tips for taming hamsters and establishing a bond, along with engaging games for interactions.\\n\\n- **Health**: Describes how to identify common health issues in hamsters and stresses the importance of maintaining their wellbeing.\\n\\n- **Character Stories**: Features Buri, a Syrian hamster, who shares insights about hamster care and companionship.\\n\\n## Blog Highlights:\\n\\nThe blog includes articles that delve deeper into various aspects of hamster care, including:\\n- **The Importance of Understanding Hamsters**: Discusses empathy towards hamsters and the need for better understanding of their behaviors and needs.\\n- **Book Writing Journey**: Shares the author\\'s personal experience in writing the \"Škrečkopédia,\" a book about hamster care.\\n\\n## Upcoming News:\\n\\n- The website announces the upcoming release of \"Škrečkopédia,\" a detailed handbook intended for children and new hamster owners, aimed at raising awareness about proper hamster care. \\n\\nOverall, the website serves as an accessible resource for anyone interested in hamster care, offering practical advice and fostering a love for these tiny furry companions.'"
      ]
     },
     "execution_count": 20,
     "metadata": {},
     "output_type": "execute_result"
    }
   ],
   "source": [
    "summarize(\"https://www.svetskreckov.sk/\")"
   ]
  },
  {
   "cell_type": "code",
   "execution_count": 17,
   "id": "05e38d41-dfa4-4b20-9c96-c46ea75d9fb5",
   "metadata": {},
   "outputs": [
    {
     "data": {
      "text/plain": [
       "\"# Summary of Edward Donner's Website\\n\\nEdward Donner's website is a personal and professional hub showcasing his passions for coding, experimenting with large language models (LLMs), and music. He is the co-founder and CTO of Nebula.io, a company focused on leveraging AI for talent discovery and management. Previously, he founded the AI startup untapt, which was acquired in 2021.\\n\\n## Key Highlights:\\n- **About Ed**: He is interested in LLMs, DJing, electronic music, and is an active reader of Hacker News.\\n- **Professional Background**: Co-founder and CTO of Nebula.io, with a focus on AI applications in talent management. He has patented a matching model and has received notable press coverage for his platform.\\n\\n## Recent Announcements:\\n- **January 23, 2025**: LLM Workshop - Hands-on with Agents – resources available.\\n- **December 21, 2024**: Welcome message for SuperDataScientists.\\n- **November 13, 2024**: Resources for mastering AI and LLM Engineering.\\n- **October 16, 2024**: Resources for transitioning from Software Engineer to AI Data Scientist.\\n\\nThe website invites visitors to connect with Edward and explore his insights on LLMs and AI.\""
      ]
     },
     "execution_count": 17,
     "metadata": {},
     "output_type": "execute_result"
    }
   ],
   "source": [
    "summarize(\"https://edwarddonner.com\")"
   ]
  },
  {
   "cell_type": "code",
   "execution_count": 18,
   "id": "3d926d59-450e-4609-92ba-2d6f244f1342",
   "metadata": {},
   "outputs": [],
   "source": [
    "# A function to display this nicely in the Jupyter output, using markdown\n",
    "\n",
    "def display_summary(url):\n",
    "    summary = summarize(url)\n",
    "    display(Markdown(summary))"
   ]
  },
  {
   "cell_type": "code",
   "execution_count": 22,
   "id": "63f6249b",
   "metadata": {},
   "outputs": [
    {
     "data": {
      "text/markdown": [
       "# Summary of the Website: Škrečok zlatý a trpasličí: Chov a starostlivosť | SVET ŠKREČKOV\n",
       "\n",
       "The website **SVET ŠKREČKOV** provides comprehensive information about caring for hamsters, particularly focusing on golden (Syrian) and dwarf hamsters. It offers practical advice, guides on creating an ideal habitat, and tips for health, feeding, and building a bond with your hamster.\n",
       "\n",
       "## Key Sections:\n",
       "\n",
       "- **Introduction to Hamsters**: Highlights the unique charm of hamsters as pets and their suitability for families and children.\n",
       "  \n",
       "- **Hamster Care Basics**: Covers essential topics like the ideal living space for hamsters, including enclosure size, bedding, and toys.\n",
       "  \n",
       "- **Feeding**: Discusses appropriate diets for hamsters, including vegetables, fruits, and proteins, as well as foods to avoid.\n",
       "  \n",
       "- **Building Trust**: Offers strategies for gaining a hamster's trust and tips for playtime activities.\n",
       "\n",
       "- **Health Overview**: Provides insights on common health issues in hamsters and how to identify signs of illness.\n",
       "\n",
       "- **Story of Buri**: Introduces a character, Buri, a Syrian hamster, who shares insights into hamster care and companionship.\n",
       "\n",
       "## Recent News:\n",
       "- The site announces the upcoming release of **Škrečkopédia**, a comprehensive book aimed at educating and guiding hamster owners.\n",
       "\n",
       "This resource is designed for both new and experienced hamster owners seeking reliable and enjoyable ways to enhance the lives of their furry companions."
      ],
      "text/plain": [
       "<IPython.core.display.Markdown object>"
      ]
     },
     "metadata": {},
     "output_type": "display_data"
    }
   ],
   "source": [
    "display_summary(\"https://www.svetskreckov.sk/\")"
   ]
  },
  {
   "cell_type": "code",
   "execution_count": 19,
   "id": "3018853a-445f-41ff-9560-d925d1774b2f",
   "metadata": {},
   "outputs": [
    {
     "data": {
      "text/markdown": [
       "# Summary of Edward Donner's Website\n",
       "\n",
       "Edward Donner's website provides an overview of his professional interests and activities, focusing on his passion for coding and experimenting with language models (LLMs). He is the co-founder and CTO of Nebula.io, a company dedicated to leveraging AI for talent discovery and management. Previously, he founded an AI startup called untapt, which was acquired in 2021.\n",
       "\n",
       "The website features various posts and announcements related to workshops and resources in the AI and LLM field:\n",
       "\n",
       "- **January 23, 2025**: Announcement about an LLM Workshop, providing hands-on resources with agents.\n",
       "- **December 21, 2024**: Welcome message for a community called SuperDataScientists.\n",
       "- **November 13, 2024**: Resources related to mastering AI and LLM engineering.\n",
       "- **October 16, 2024**: Resources for transitioning from a software engineer to an AI data scientist.\n",
       "\n",
       "Overall, the site reflects Donner's commitment to AI innovation and community engagement within the tech industry."
      ],
      "text/plain": [
       "<IPython.core.display.Markdown object>"
      ]
     },
     "metadata": {},
     "output_type": "display_data"
    }
   ],
   "source": [
    "display_summary(\"https://edwarddonner.com\")"
   ]
  },
  {
   "cell_type": "markdown",
   "id": "b3bcf6f4-adce-45e9-97ad-d9a5d7a3a624",
   "metadata": {},
   "source": [
    "# Let's try more websites\n",
    "\n",
    "Note that this will only work on websites that can be scraped using this simplistic approach.\n",
    "\n",
    "Websites that are rendered with Javascript, like React apps, won't show up. See the community-contributions folder for a Selenium implementation that gets around this. You'll need to read up on installing Selenium (ask ChatGPT!)\n",
    "\n",
    "Also Websites protected with CloudFront (and similar) may give 403 errors - many thanks Andy J for pointing this out.\n",
    "\n",
    "But many websites will work just fine!"
   ]
  },
  {
   "cell_type": "code",
   "execution_count": 20,
   "id": "45d83403-a24c-44b5-84ac-961449b4008f",
   "metadata": {},
   "outputs": [
    {
     "data": {
      "text/markdown": [
       "# Summary of CNN Website Content\n",
       "\n",
       "CNN's website provides comprehensive coverage of breaking news, featuring various topics including US and world news, politics, business, health, entertainment, science, climate, and sports. \n",
       "\n",
       "## Key News Highlights:\n",
       "- **Trump Administration**: Discussions around potential negotiations to end the Russia-Ukraine war, with a suggestion that the US may reset its approach if progress is not observed.\n",
       "- **Florida Mass Shooting**: Reports detail the horrifying incidents during a mass shooting at Florida State University, including reactions from students and information about the alleged shooter.\n",
       "- **Pakistan Protests**: Investigations into the detention of individuals following KFC attacks in Pakistan which were sparked by protests over the Gaza conflict.\n",
       "- **Archival Discoveries**: Scientists have found evidence suggesting planet Earth is slowly shedding its outer layer beneath the Sierra Nevada region.\n",
       "- **Astronomical Findings**: Recent detections indicate a signature of life on the distant exoplanet K2-18b.\n",
       "\n",
       "## Other Notable Stories:\n",
       "- **World Press Photo Awards**: Coverage of award-winning photography, including a poignant portrait of a wounded Palestinian boy.\n",
       "- **Economic Impact**: An analysis of Trump’s tariffs and their implications for the US economy and the global supply chain.\n",
       "- **Climate Studies**: Reports on new research challenging previous beliefs about Earth's water origins.\n",
       "\n",
       "The website presents a mix of current affairs, updates on ongoing conflicts, and remarkable scientific discoveries, making it a critical source for up-to-the-minute news and analysis."
      ],
      "text/plain": [
       "<IPython.core.display.Markdown object>"
      ]
     },
     "metadata": {},
     "output_type": "display_data"
    }
   ],
   "source": [
    "display_summary(\"https://cnn.com\")"
   ]
  },
  {
   "cell_type": "code",
   "execution_count": 21,
   "id": "75e9fd40-b354-4341-991e-863ef2e59db7",
   "metadata": {},
   "outputs": [
    {
     "data": {
      "text/markdown": [
       "# Website Summary: Just a moment...\n",
       "\n",
       "The website currently prompts users to enable JavaScript and cookies to access its content. There are no additional details, news, or announcements provided, as the site is not fully accessible without meeting these technical requirements."
      ],
      "text/plain": [
       "<IPython.core.display.Markdown object>"
      ]
     },
     "metadata": {},
     "output_type": "display_data"
    }
   ],
   "source": [
    "display_summary(\"https://anthropic.com\")"
   ]
  },
  {
   "cell_type": "markdown",
   "id": "c951be1a-7f1b-448f-af1f-845978e47e2c",
   "metadata": {},
   "source": [
    "<table style=\"margin: 0; text-align: left;\">\n",
    "    <tr>\n",
    "        <td style=\"width: 150px; height: 150px; vertical-align: middle;\">\n",
    "            <img src=\"../business.jpg\" width=\"150\" height=\"150\" style=\"display: block;\" />\n",
    "        </td>\n",
    "        <td>\n",
    "            <h2 style=\"color:#181;\">Business applications</h2>\n",
    "            <span style=\"color:#181;\">In this exercise, you experienced calling the Cloud API of a Frontier Model (a leading model at the frontier of AI) for the first time. We will be using APIs like OpenAI at many stages in the course, in addition to building our own LLMs.\n",
    "\n",
    "More specifically, we've applied this to Summarization - a classic Gen AI use case to make a summary. This can be applied to any business vertical - summarizing the news, summarizing financial performance, summarizing a resume in a cover letter - the applications are limitless. Consider how you could apply Summarization in your business, and try prototyping a solution.</span>\n",
    "        </td>\n",
    "    </tr>\n",
    "</table>\n",
    "\n",
    "<table style=\"margin: 0; text-align: left;\">\n",
    "    <tr>\n",
    "        <td style=\"width: 150px; height: 150px; vertical-align: middle;\">\n",
    "            <img src=\"../important.jpg\" width=\"150\" height=\"150\" style=\"display: block;\" />\n",
    "        </td>\n",
    "        <td>\n",
    "            <h2 style=\"color:#900;\">Before you continue - now try yourself</h2>\n",
    "            <span style=\"color:#900;\">Use the cell below to make your own simple commercial example. Stick with the summarization use case for now. Here's an idea: write something that will take the contents of an email, and will suggest an appropriate short subject line for the email. That's the kind of feature that might be built into a commercial email tool.</span>\n",
    "        </td>\n",
    "    </tr>\n",
    "</table>"
   ]
  },
  {
   "cell_type": "code",
   "execution_count": null,
   "id": "00743dac-0e70-45b7-879a-d7293a6f68a6",
   "metadata": {},
   "outputs": [],
   "source": [
    "# Step 1: Create your prompts\n",
    "\n",
    "system_prompt = \"something here\"\n",
    "user_prompt = \"\"\"\n",
    "    Lots of text\n",
    "    Can be pasted here\n",
    "\"\"\"\n",
    "\n",
    "# Step 2: Make the messages list\n",
    "\n",
    "messages = [] # fill this in\n",
    "\n",
    "# Step 3: Call OpenAI\n",
    "response = openai.chat.completions.create(\n",
    "    model = \"gpt-4o-mini\",\n",
    "    messages = messages\n",
    ")\n",
    "\n",
    "\n",
    "# Step 4: print the result\n",
    "\n",
    "print(response.choices[0].message.content)"
   ]
  },
  {
   "cell_type": "code",
   "execution_count": 31,
   "id": "b5232aee",
   "metadata": {},
   "outputs": [],
   "source": [
    "system_prompt = \"You are an assistant that analyzes the contents of an email and suggests appropriate short subject for the email. Answer in markdown.\""
   ]
  },
  {
   "cell_type": "code",
   "execution_count": 22,
   "id": "ccb13991",
   "metadata": {},
   "outputs": [],
   "source": [
    "user_prompt = \"\"\"\n",
    "VYUŽITE POKLES A PORAĎTE SA S PROFESIONÁLMI\n",
    "PORAĎTE SA S ELITE WEALTH MANAŽÉROM \n",
    "\n",
    "Dobrý deň Patrik Mihalech,\n",
    "\n",
    "situácia na finančných trhoch sa dramaticky mení. Obdobie, keď sme prekonávali nové maximá, vystriedala nervozita a na trhoch čelíme poklesom. Tie sú pre časť investorov príležitosťou, pre iných predstavujú zvýšený stres a neistotu.\n",
    "\n",
    " \n",
    "\n",
    "Tieto okamihy rozhodujú o tom, ako a či vôbec budeme úspešní pri budovaní majetku a správe svojich financií. Pri zvýšených pohyboch cien je dôležité zachovať chladnú hlavu a ideálne tieto momenty správne využiť. \n",
    "\n",
    " \n",
    "\n",
    "PORAĎTE SA S ELITE WEALTH MANAŽÉROM\n",
    "\n",
    " \n",
    "\n",
    "Ako Váš dlhodobý partner v správe majetku Vám touto cestou ponúkame možnosť stretnúť sa s našimi Wealth manažérmi z oddelenia Finax Elite. Naši profesionáli Vám poradia, ak premýšľate nad tým, ako investovať a privítali by ste pomoc odborníkov. Minimálny plánovaný objem investície je 30 000 eur. \n",
    "\n",
    " \n",
    "\n",
    "Táto možnosť stretnutia – osobne alebo formou videohovoru – na prediskutovanie Vašich investičných plánov platí aj pre Vašich blízkych. Ak Vaši priatelia alebo rodina nemajú skúsenosti s Finaxom, či dokonca s investovaním, radi im poskytneme stretnutie, kde si prejdeme všetko dôležité. Táto služba nie je spoplatnená.\n",
    "Mám záujem o stretnutie\n",
    "\n",
    "VÝHODY STRETNUTIA S WEALTH MANAŽÉROM\n",
    "\n",
    "    Lepšie riadenie financií: odborné rady, ako efektívne spravovať Váš majetok. \n",
    "    Vyššia pravdepodobnosť dosiahnutia cieľov: pomôžeme Vám stanoviť realistické ciele a s našou pomocou maximalizovať výnosy z investícií. \n",
    "    Manažment očakávaní: naučíme Vás správne nastavovať očakávania a pripraviť sa na rôzne trhové situácie.\n",
    "\n",
    "ČO JE FINAX ELITE? \n",
    "\n",
    " \n",
    "\n",
    "Oddelenie privátnej starostlivosti o klientov s majetkom presahujúcim 100 000 eur ponúka výhodnejšie poplatky, širšiu škálu služieb a predovšetkým individuálny prístup. \n",
    "\n",
    " \n",
    "\n",
    "VÝHODY SLUŽBY FINAX ELITE\n",
    "\n",
    "    Nižšie poplatky a Elite Family: zahrňte do tejto služby aj členov Vašej domácnosti a využite výhodnejšie poplatky pre všetkých. \n",
    "    0,85 % p.a. + DPH od 100 000 eur \n",
    "    0,65 % p.a. + DPH od 500 000 eur \n",
    "    Osobný prístup: každý Elite klient automaticky získava Wealth manažéra, ktorý Vám pomáha spravovať Váš majetok a usmerní Vás pri dôležitých rozhodnutiach. \n",
    "    Rozšírená ponuka služieb: individuálne riadené portfóliá, služba brokerage a ďalšie finančné služby. \n",
    "\n",
    "Finax Elite Vám poskytne všetko potrebné pre úspešné investovanie. Budujte a zveľaďujte svoj majetok s pomocou profesionálov. Viac o Finax Elite. \n",
    "\n",
    " \n",
    "\n",
    "Ak máte otázky alebo záujem o stretnutie s naším Wealth manažérom, neváhajte nás kontaktovať. \n",
    "Mám záujem o stretnutie\n",
    " \n",
    "\n",
    "Ďakujeme za dôveru.\n",
    "\n",
    "Tím Finax\n",
    "\n",
    " \n",
    "\n",
    "S investovaním je spojené riziko. Minulé výnosy nie sú zárukou budúcich a výsledkom investície môže byť aj strata. Informujte sa o rizikách, ktoré podstupujete pri investovaní.  \n",
    "\n",
    " \n",
    "\n",
    "Cieľom tohto e-mailu je poskytnúť marketingové oznámenie o produktoch spoločnosti Finax, o.c.p., a.s. a prebiehajúcich akciách. Toto marketingové oznámenie nezohľadňuje osobnú situáciu možných prijímateľov a nie je osobným odporúčaním pre prijímateľa. \n",
    "\"\"\"\n"
   ]
  },
  {
   "cell_type": "code",
   "execution_count": 32,
   "id": "376ea76e",
   "metadata": {},
   "outputs": [
    {
     "name": "stdout",
     "output_type": "stream",
     "text": [
      "```markdown\n",
      "**Subject: Konzultácia s Wealth manažérom o investičných stratégiách**\n",
      "```\n"
     ]
    }
   ],
   "source": [
    "response = openai.chat.completions.create(\n",
    "    model = \"gpt-4o-mini\",\n",
    "    messages = [\n",
    "        {\"role\": \"system\", \"content\": system_prompt},\n",
    "        {\"role\": \"user\", \"content\": user_prompt}\n",
    "    ]\n",
    ")\n",
    "\n",
    "print(response.choices[0].message.content)"
   ]
  },
  {
   "cell_type": "markdown",
   "id": "b4898c13",
   "metadata": {},
   "source": [
    "**Subject: Konzultácia s Wealth manažérom o investičných stratégiách**"
   ]
  },
  {
   "cell_type": "markdown",
   "id": "36ed9f14-b349-40e9-a42c-b367e77f8bda",
   "metadata": {},
   "source": [
    "## An extra exercise for those who enjoy web scraping\n",
    "\n",
    "You may notice that if you try `display_summary(\"https://openai.com\")` - it doesn't work! That's because OpenAI has a fancy website that uses Javascript. There are many ways around this that some of you might be familiar with. For example, Selenium is a hugely popular framework that runs a browser behind the scenes, renders the page, and allows you to query it. If you have experience with Selenium, Playwright or similar, then feel free to improve the Website class to use them. In the community-contributions folder, you'll find an example Selenium solution from a student (thank you!)"
   ]
  },
  {
   "cell_type": "markdown",
   "id": "eeab24dc-5f90-4570-b542-b0585aca3eb6",
   "metadata": {},
   "source": [
    "# Sharing your code\n",
    "\n",
    "I'd love it if you share your code afterwards so I can share it with others! You'll notice that some students have already made changes (including a Selenium implementation) which you will find in the community-contributions folder. If you'd like add your changes to that folder, submit a Pull Request with your new versions in that folder and I'll merge your changes.\n",
    "\n",
    "If you're not an expert with git (and I am not!) then GPT has given some nice instructions on how to submit a Pull Request. It's a bit of an involved process, but once you've done it once it's pretty clear. As a pro-tip: it's best if you clear the outputs of your Jupyter notebooks (Edit >> Clean outputs of all cells, and then Save) for clean notebooks.\n",
    "\n",
    "Here are good instructions courtesy of an AI friend:  \n",
    "https://chatgpt.com/share/677a9cb5-c64c-8012-99e0-e06e88afd293"
   ]
  },
  {
   "cell_type": "code",
   "execution_count": null,
   "id": "f4484fcf-8b39-4c3f-9674-37970ed71988",
   "metadata": {},
   "outputs": [],
   "source": []
  }
 ],
 "metadata": {
  "kernelspec": {
   "display_name": "llms",
   "language": "python",
   "name": "python3"
  },
  "language_info": {
   "codemirror_mode": {
    "name": "ipython",
    "version": 3
   },
   "file_extension": ".py",
   "mimetype": "text/x-python",
   "name": "python",
   "nbconvert_exporter": "python",
   "pygments_lexer": "ipython3",
   "version": "3.11.12"
  }
 },
 "nbformat": 4,
 "nbformat_minor": 5
}
