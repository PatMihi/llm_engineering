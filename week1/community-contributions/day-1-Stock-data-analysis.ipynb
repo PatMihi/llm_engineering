{
 "cells": [
  {
   "cell_type": "markdown",
   "id": "306f1a67-4f1c-4aed-8f80-2a8458a1bce5",
   "metadata": {},
   "source": [
    "# Stock data analysis"
   ]
  },
  {
   "cell_type": "code",
   "execution_count": 1,
   "id": "4e2a9393-7767-488e-a8bf-27c12dca35bd",
   "metadata": {},
   "outputs": [],
   "source": [
    "import os\n",
    "import requests\n",
    "from dotenv import load_dotenv\n",
    "from bs4 import BeautifulSoup\n",
    "from IPython.display import Markdown, display\n",
    "from openai import OpenAI\n",
    "\n",
    "# If you get an error running this cell, then please head over to the troubleshooting notebook!"
   ]
  },
  {
   "cell_type": "markdown",
   "id": "6900b2a8-6384-4316-8aaa-5e519fca4254",
   "metadata": {},
   "source": [
    "# Connecting to OpenAI"
   ]
  },
  {
   "cell_type": "code",
   "execution_count": 2,
   "id": "7b87cadb-d513-4303-baee-a37b6f938e4d",
   "metadata": {},
   "outputs": [
    {
     "name": "stdout",
     "output_type": "stream",
     "text": [
      "API key found and looks good so far!\n"
     ]
    }
   ],
   "source": [
    "# Load environment variables in a file called .env\n",
    "\n",
    "load_dotenv(override=True)\n",
    "api_key = os.getenv('OPENAI_API_KEY')\n",
    "\n",
    "# Check the key\n",
    "\n",
    "if not api_key:\n",
    "    print(\"No API key was found - please head over to the troubleshooting notebook in this folder to identify & fix!\")\n",
    "elif not api_key.startswith(\"sk-proj-\"):\n",
    "    print(\"An API key was found, but it doesn't start sk-proj-; please check you're using the right key - see troubleshooting notebook\")\n",
    "elif api_key.strip() != api_key:\n",
    "    print(\"An API key was found, but it looks like it might have space or tab characters at the start or end - please remove them - see troubleshooting notebook\")\n",
    "else:\n",
    "    print(\"API key found and looks good so far!\")\n"
   ]
  },
  {
   "cell_type": "code",
   "execution_count": 3,
   "id": "019974d9-f3ad-4a8a-b5f9-0a3719aea2d3",
   "metadata": {},
   "outputs": [],
   "source": [
    "openai = OpenAI()"
   ]
  },
  {
   "cell_type": "code",
   "execution_count": 4,
   "id": "51d42a08-188e-4c56-9578-47cd549bd1d8",
   "metadata": {},
   "outputs": [],
   "source": [
    "from urllib.parse import urlencode\n",
    "import datetime\n",
    "\n",
    "headers = {\n",
    " \"User-Agent\": \"Mozilla/5.0 (Windows NT 10.0; Win64; x64) AppleWebKit/537.36 (KHTML, like Gecko) Chrome/117.0.0.0 Safari/537.36\"\n",
    "}"
   ]
  },
  {
   "cell_type": "code",
   "execution_count": 5,
   "id": "682eff74-55c4-4d4b-b267-703edbc293c7",
   "metadata": {},
   "outputs": [],
   "source": [
    "class YahooFinanceWebsite:\n",
    "    def __init__(self, stock_symbol):\n",
    "        \"\"\"\n",
    "        Create this Website object from the given url using the BeautifulSoup library\n",
    "        \"\"\"\n",
    "        self.stock_symbol = stock_symbol.upper()\n",
    "\n",
    "    def __build_url(self, params):\n",
    "        base_url = f\"https://finance.yahoo.com/quote/{self.stock_symbol}/history/\"\n",
    "        query_string = urlencode(params)\n",
    "        return f\"{base_url}?{query_string}\"\n",
    "\n",
    "    def get_stock_data(self):\n",
    "        datetime_now = datetime.datetime.now()\n",
    "        datetime_year_ago = datetime_now - datetime.timedelta(days=365)\n",
    "        params = {\"frequency\": \"1wk\", \"period1\": datetime_year_ago.timestamp(), \"period2\": datetime_now.timestamp()}\n",
    "        url = self.__build_url(params)\n",
    "        response = requests.get(url, headers=headers)\n",
    "\n",
    "        soup = BeautifulSoup(response.content, 'html.parser')\n",
    "        \n",
    "        title = soup.title.string if soup.title else \"No title found\"\n",
    "        for irrelevant in soup.body([\"script\", \"style\", \"img\", \"input\"]):\n",
    "            irrelevant.decompose()\n",
    "\n",
    "        html_table_data = soup.find(\"table\")\n",
    "\n",
    "        return title, html_table_data"
   ]
  },
  {
   "cell_type": "code",
   "execution_count": 6,
   "id": "70b8d7e7-51e7-4392-9b85-9ac9f67a907c",
   "metadata": {},
   "outputs": [],
   "source": [
    "def build_stock_analysis_prompt(stock_symbol, title, stock_table_data):\n",
    "    sys_prompt = r\"\"\"You are an assistant that analyzes the contents of HTML formated table that contains data on a specific stock.\n",
    "    The HTML table contains the date, open price, close price, low and highs aggregated for every week over one year timeframe.\n",
    "    Ignoring text, tags or html attributes that might be navigation related. \n",
    "    Respond in Markdown format\"\"\"\n",
    "    \n",
    "    user_prompt = f\"The data provided below in the HTML table format for {stock_symbol} from the Yahoo Finances.\\\n",
    "    Make the explaination easy enough for a newbie to understand. \\\n",
    "    Analyze and Summarize the trends on this stock:\\n{stock_table_data}\\n\\n\\\n",
    "    Also, calculate the total returns in percentage one could have expected over this period.\"\n",
    "    \n",
    "    return [\n",
    "        {\"role\": \"system\", \"content\": sys_prompt},\n",
    "        {\"role\": \"user\", \"content\": user_prompt}\n",
    "    ]"
   ]
  },
  {
   "cell_type": "code",
   "execution_count": 7,
   "id": "de514421-4cc8-4881-85b4-97f03e94c589",
   "metadata": {},
   "outputs": [],
   "source": [
    "def analyze_stock_trends(stock_symbol):\n",
    "    stock_data_page = YahooFinanceWebsite(stock_symbol)\n",
    "    title, stock_table_data = stock_data_page.get_stock_data()\n",
    "    response = openai.chat.completions.create(\n",
    "        model = \"gpt-4o-mini\",\n",
    "        messages = build_stock_analysis_prompt(stock_symbol, title, stock_table_data)\n",
    "    )\n",
    "    return response.choices[0].message.content\n",
    "\n",
    "def display_analysis(stock_symbol):\n",
    "    display(Markdown(analyze_stock_trends(stock_symbol)))"
   ]
  },
  {
   "cell_type": "code",
   "execution_count": 8,
   "id": "41acc36f-484a-4257-a240-cf27520e7396",
   "metadata": {},
   "outputs": [
    {
     "data": {
      "text/markdown": [
       "## Analysis of GOOG Stock Trends\n",
       "\n",
       "The provided data consists of weekly stock price movements of Google (ticker symbol: GOOG) over a year, with relevant details such as dates, opening prices, high prices, low prices, closing prices, adjusted closing prices, and trading volumes.\n",
       "\n",
       "### Summary of Trends\n",
       "\n",
       "1. **General Price Movement**:\n",
       "   - The stock opened at **$156.64** on April 17, 2025, and closed at **$153.36** by the same date.\n",
       "   - The highest price observed in the data was **$208.70** on February 3, 2025, while the lowest was **$142.66** on April 7, 2025.\n",
       "\n",
       "2. **Price Fluctuations**:\n",
       "   - There have been notable price fluctuations throughout the period:\n",
       "     - A significant drop occurred from late January 2025 (around **$205.60**) to March 2025, where it dropped to **$147.74**.\n",
       "     - The price rose back up to around **$170** by the end of March.\n",
       "     - Recently, it dropped again, indicating possible volatility.\n",
       "\n",
       "3. **Volume Analysis**:\n",
       "   - Trading volumes have varied significantly. For example:\n",
       "     - The highest volume noted was **187,459,400 shares** on April 7, 2025, coinciding with a considerable price rise.\n",
       "     - Lower trading volumes were observed during price corrections, indicating that fewer investors were trading during those downturn periods.\n",
       "\n",
       "4. **Return on Investment**:\n",
       "   - To calculate the total returns from the start to the end of this period, we consider:\n",
       "     - **Closing Price on Start Date (April 17, 2025)**: **$153.36**\n",
       "     - **Closing Price on End Date (April 14, 2025)**: **$153.36**\n",
       "   - The formula to calculate return is:\n",
       "     \\[\n",
       "     \\text{Total Return (\\%)} = \\left( \\frac{\\text{End Price} - \\text{Start Price}}{\\text{Start Price}} \\right) \\times 100\n",
       "     \\]\n",
       "   - Plugging in values:\n",
       "     \\[\n",
       "     \\text{Total Return (\\%)} = \\left( \\frac{153.36 - 156.64}{156.64} \\right) \\times 100 \\approx -2.85\\%\n",
       "     \\]\n",
       "\n",
       "### Conclusion\n",
       "\n",
       "- Overall, **GOOG stock has seen both ups and downs**, with fluctuations indicating market volatility. \n",
       "- If you had invested in GOOG at the beginning of this timeframe, you would have faced **a decrease of approximately 2.85%** in your investment by the date analyzed. This slight loss reflects the stock's tendency to experience volatility and highlights the risks involved with stock investing. \n",
       "\n",
       "New investors should consider both the potential for losses alongside the chances for gains when evaluating their investment in GOOG stock."
      ],
      "text/plain": [
       "<IPython.core.display.Markdown object>"
      ]
     },
     "metadata": {},
     "output_type": "display_data"
    }
   ],
   "source": [
    "display_analysis(\"GOOG\")"
   ]
  },
  {
   "cell_type": "code",
   "execution_count": null,
   "id": "7e09541f-bbc4-4cf3-a1ef-9ed5e1b718e4",
   "metadata": {},
   "outputs": [],
   "source": [
    "display_analysis(\"PFE\")"
   ]
  },
  {
   "cell_type": "code",
   "execution_count": 9,
   "id": "e6af9395-0c5c-4265-a309-baba786bfa71",
   "metadata": {},
   "outputs": [
    {
     "data": {
      "text/markdown": [
       "# AAPL Stock Data Analysis (HTML Table)\n",
       "\n",
       "## Overview\n",
       "\n",
       "The table provided contains weekly stock data for Apple Inc. (AAPL) from the last year. The key columns we will focus on are:\n",
       "- **Open**: The stock price at the beginning of the week\n",
       "- **Close**: The stock price at the end of the week\n",
       "- **High**: The highest price during the week\n",
       "- **Low**: The lowest price during the week\n",
       "- **Volume**: The number of shares traded.\n",
       "\n",
       "## Trends and Summary\n",
       "\n",
       "### Price Trend\n",
       "1. **Volatility**: The stock prices show considerable fluctuations over the observed period, with both highs and lows varying significantly.\n",
       "2. **Peak and Trough**:\n",
       "   - The highest recorded opening price was on **Apr 14, 2025**, at **211.44**.\n",
       "   - The lowest point was around **169.30** on **Apr 22, 2024**.\n",
       "3. **Closing Trend**:\n",
       "   - The closing price experienced peaks and troughs throughout the year, notably jumping from **182.19** (Apr 6, 2024) to **196.98** (Apr 14, 2025).\n",
       "   - There is a visible upward trend in the closing prices towards the latest dates, indicating rising investor confidence and potential strong financial fundamentals.\n",
       "\n",
       "### Volume Trends\n",
       "- The trading volume varied significantly, with some days reflecting heavy trading (over **600M** shares) suggesting high investor interest during those weeks.\n",
       "- High volume days often correlate with large price movements, indicating reactions to market news or company announcements.\n",
       "\n",
       "### Returns Calculation\n",
       "To calculate the total returns:\n",
       "- Use the closing price from **April 15, 2024** (the beginning of the observed period) and the latest closing price from **April 17, 2025**.\n",
       "\n",
       "1. **Closing Price on Apr 15, 2024**: **165.00**\n",
       "2. **Closing Price on Apr 17, 2025**: **196.98**\n",
       "\n",
       "**Formula for Total Returns**:\n",
       "\\[ \\text{Total Returns} (\\%) = \\left( \\frac{\\text{Final Price} - \\text{Initial Price}}{\\text{Initial Price}} \\right) \\times 100 \\]\n",
       "\n",
       "Calculating this:\n",
       "\\[ \\text{Total Returns} (\\%) = \\left( \\frac{196.98 - 165.00}{165.00} \\right) \\times 100 \\approx 19.37\\% \\]\n",
       "\n",
       "## Conclusion\n",
       "- Over the past year, AAPL stock has seen significant fluctuations, suggesting investment opportunities during both peaks and troughs.\n",
       "- A total return of **approximately 19.37%** reflects an overall positive performance for investors holding the stock during this period, despite the short-term volatility."
      ],
      "text/plain": [
       "<IPython.core.display.Markdown object>"
      ]
     },
     "metadata": {},
     "output_type": "display_data"
    }
   ],
   "source": [
    "display_analysis(\"AAPL\")"
   ]
  },
  {
   "cell_type": "code",
   "execution_count": null,
   "id": "afe4f6d1-a6ea-44b5-81ae-8e756cfc0d84",
   "metadata": {},
   "outputs": [],
   "source": []
  }
 ],
 "metadata": {
  "kernelspec": {
   "display_name": "llms",
   "language": "python",
   "name": "python3"
  },
  "language_info": {
   "codemirror_mode": {
    "name": "ipython",
    "version": 3
   },
   "file_extension": ".py",
   "mimetype": "text/x-python",
   "name": "python",
   "nbconvert_exporter": "python",
   "pygments_lexer": "ipython3",
   "version": "3.11.12"
  }
 },
 "nbformat": 4,
 "nbformat_minor": 5
}
